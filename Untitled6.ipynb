{
 "cells": [
  {
   "cell_type": "code",
   "execution_count": null,
   "id": "6fbd7231-5d50-4c9d-8393-5dad4dcaf3dd",
   "metadata": {},
   "outputs": [
    {
     "name": "stdout",
     "output_type": "stream",
     "text": [
      "✅ پیام ارسال شد!\n",
      "⌛ منتظر ۱ ساعت...\n"
     ]
    }
   ],
   "source": [
    "import requests\n",
    "import time\n",
    "from datetime import datetime\n",
    "TOKEN = \"8193648355:AAG3IQtsTd2ntcQ_kVYjw9iHoeLxHlwS0Uk\"\n",
    "CHAT_ID = \"969493074\"\n",
    "URL = \"https://api.coingecko.com/api/v3/simple/price?ids=bitcoin,ethereum,solana&vs_currencies=usd\"\n",
    "prices = {\"bitcoin\": [], \"ethereum\": [], \"solana\": []}  # ذخیره قیمت‌ها\n",
    "def send_telegram_message(message):\n",
    "    \"\"\" ارسال پیام به تلگرام \"\"\"\n",
    "    telegram_url = f\"https://api.telegram.org/bot{TOKEN}/sendMessage\"\n",
    "    payload = {\"chat_id\": CHAT_ID, \"text\": message}\n",
    "    requests.post(telegram_url, data=payload)\n",
    "\n",
    "while True:\n",
    "    response = requests.get(URL)\n",
    "\n",
    "    if response.status_code == 200:\n",
    "        data = response.json()\n",
    "        btc_price = data[\"bitcoin\"][\"usd\"]\n",
    "        eth_price = data[\"ethereum\"][\"usd\"]\n",
    "        sol_price = data[\"solana\"][\"usd\"]\n",
    "\n",
    "        # ذخیره قیمت‌ها برای تحلیل روزانه\n",
    "        prices[\"bitcoin\"].append(btc_price)\n",
    "        prices[\"ethereum\"].append(eth_price)\n",
    "        prices[\"solana\"].append(sol_price)\n",
    "\n",
    "        message = f\"📊 قیمت ارزها:\\n\\n\" \\\n",
    "                  f\"💰 بیت‌کوین: {btc_price} دلار\\n\" \\\n",
    "                  f\"🌐 اتریوم: {eth_price} دلار\\n\" \\\n",
    "                  f\"🚀 سولانا: {sol_price} دلار\\n\"\n",
    "\n",
    "        send_telegram_message(message)\n",
    "        print(\"✅ پیام ارسال شد!\")\n",
    "\n",
    "    else:\n",
    "        print(\"❌ خطا در دریافت اطلاعات\")\n",
    "\n",
    "    # بررسی ارسال گزارش در پایان روز\n",
    "    now = datetime.now()\n",
    "    if now.hour == 23 and now.minute == 30:  # ساعت 23:30 گزارش روزانه ارسال کن\n",
    "        report = \"📊 **گزارش روزانه قیمت‌ها:**\\n\\n\"\n",
    "        for coin in [\"bitcoin\", \"ethereum\", \"solana\"]:\n",
    "            min_price = min(prices[coin])\n",
    "            max_price = max(prices[coin])\n",
    "            avg_price = sum(prices[coin]) / len(prices[coin])\n",
    "            report += f\"💰 **{coin.capitalize()}**\\n\" \\\n",
    "                      f\"🔻 کمترین: {min_price} دلار\\n\" \\\n",
    "                      f\"🔺 بیشترین: {max_price} دلار\\n\" \\\n",
    "                      f\"📉 میانگین: {round(avg_price, 2)} دلار\\n\\n\"\n",
    "        \n",
    "        send_telegram_message(report)\n",
    "        prices = {\"bitcoin\": [], \"ethereum\": [], \"solana\": []}  # ریست کردن داده‌های روزانه\n",
    "        print(\"📊 گزارش روزانه ارسال شد!\")\n",
    "\n",
    "    print(\"⌛ منتظر ۱ ساعت...\")\n",
    "    time.sleep(3600)  # هر ۱ ساعت ارسال کن\n"
   ]
  },
  {
   "cell_type": "code",
   "execution_count": null,
   "id": "6fd2682f-4f55-49b8-adcc-1c2eaff28005",
   "metadata": {},
   "outputs": [],
   "source": []
  }
 ],
 "metadata": {
  "kernelspec": {
   "display_name": "Python 3 (ipykernel)",
   "language": "python",
   "name": "python3"
  },
  "language_info": {
   "codemirror_mode": {
    "name": "ipython",
    "version": 3
   },
   "file_extension": ".py",
   "mimetype": "text/x-python",
   "name": "python",
   "nbconvert_exporter": "python",
   "pygments_lexer": "ipython3",
   "version": "3.13.2"
  }
 },
 "nbformat": 4,
 "nbformat_minor": 5
}
